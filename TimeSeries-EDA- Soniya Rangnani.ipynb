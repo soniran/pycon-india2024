{
 "cells": [
  {
   "cell_type": "markdown",
   "id": "f3b3c0c2",
   "metadata": {},
   "source": [
    "# Read the data "
   ]
  },
  {
   "cell_type": "code",
   "execution_count": 481,
   "id": "ed585add",
   "metadata": {},
   "outputs": [
    {
     "data": {
      "text/html": [
       "<div>\n",
       "<style scoped>\n",
       "    .dataframe tbody tr th:only-of-type {\n",
       "        vertical-align: middle;\n",
       "    }\n",
       "\n",
       "    .dataframe tbody tr th {\n",
       "        vertical-align: top;\n",
       "    }\n",
       "\n",
       "    .dataframe thead th {\n",
       "        text-align: right;\n",
       "    }\n",
       "</style>\n",
       "<table border=\"1\" class=\"dataframe\">\n",
       "  <thead>\n",
       "    <tr style=\"text-align: right;\">\n",
       "      <th></th>\n",
       "      <th>Date</th>\n",
       "      <th>Price</th>\n",
       "    </tr>\n",
       "  </thead>\n",
       "  <tbody>\n",
       "    <tr>\n",
       "      <th>0</th>\n",
       "      <td>1/1/2012</td>\n",
       "      <td>99</td>\n",
       "    </tr>\n",
       "    <tr>\n",
       "      <th>1</th>\n",
       "      <td>1/2/2012</td>\n",
       "      <td>95</td>\n",
       "    </tr>\n",
       "    <tr>\n",
       "      <th>2</th>\n",
       "      <td>1/3/2012</td>\n",
       "      <td>96</td>\n",
       "    </tr>\n",
       "    <tr>\n",
       "      <th>3</th>\n",
       "      <td>1/4/2012</td>\n",
       "      <td>95</td>\n",
       "    </tr>\n",
       "    <tr>\n",
       "      <th>4</th>\n",
       "      <td>1/5/2012</td>\n",
       "      <td>93</td>\n",
       "    </tr>\n",
       "  </tbody>\n",
       "</table>\n",
       "</div>"
      ],
      "text/plain": [
       "       Date  Price\n",
       "0  1/1/2012     99\n",
       "1  1/2/2012     95\n",
       "2  1/3/2012     96\n",
       "3  1/4/2012     95\n",
       "4  1/5/2012     93"
      ]
     },
     "execution_count": 481,
     "metadata": {},
     "output_type": "execute_result"
    }
   ],
   "source": [
    "import pandas as pd\n",
    "import numpy as np\n",
    "\n",
    "data=pd.read_csv('Multi-Year Price Data (Aggregate).csv')\n",
    "data.head()"
   ]
  },
  {
   "cell_type": "markdown",
   "id": "81a94f2a",
   "metadata": {},
   "source": [
    "#checking isnull value"
   ]
  },
  {
   "cell_type": "code",
   "execution_count": 482,
   "id": "ee4186bf",
   "metadata": {},
   "outputs": [
    {
     "data": {
      "text/plain": [
       "0"
      ]
     },
     "execution_count": 482,
     "metadata": {},
     "output_type": "execute_result"
    }
   ],
   "source": [
    "#checking isnull value\n",
    "data['Price'].isnull().sum()"
   ]
  },
  {
   "cell_type": "code",
   "execution_count": 483,
   "id": "3433e893",
   "metadata": {},
   "outputs": [
    {
     "data": {
      "text/html": [
       "<div>\n",
       "<style scoped>\n",
       "    .dataframe tbody tr th:only-of-type {\n",
       "        vertical-align: middle;\n",
       "    }\n",
       "\n",
       "    .dataframe tbody tr th {\n",
       "        vertical-align: top;\n",
       "    }\n",
       "\n",
       "    .dataframe thead th {\n",
       "        text-align: right;\n",
       "    }\n",
       "</style>\n",
       "<table border=\"1\" class=\"dataframe\">\n",
       "  <thead>\n",
       "    <tr style=\"text-align: right;\">\n",
       "      <th></th>\n",
       "      <th>Date</th>\n",
       "      <th>Price</th>\n",
       "      <th>Year</th>\n",
       "      <th>Month</th>\n",
       "      <th>Day</th>\n",
       "      <th>Quarter</th>\n",
       "    </tr>\n",
       "  </thead>\n",
       "  <tbody>\n",
       "    <tr>\n",
       "      <th>0</th>\n",
       "      <td>1/1/2012</td>\n",
       "      <td>99</td>\n",
       "      <td>2012</td>\n",
       "      <td>1</td>\n",
       "      <td>1</td>\n",
       "      <td>1</td>\n",
       "    </tr>\n",
       "    <tr>\n",
       "      <th>1</th>\n",
       "      <td>1/2/2012</td>\n",
       "      <td>95</td>\n",
       "      <td>2012</td>\n",
       "      <td>1</td>\n",
       "      <td>2</td>\n",
       "      <td>1</td>\n",
       "    </tr>\n",
       "    <tr>\n",
       "      <th>2</th>\n",
       "      <td>1/3/2012</td>\n",
       "      <td>96</td>\n",
       "      <td>2012</td>\n",
       "      <td>1</td>\n",
       "      <td>3</td>\n",
       "      <td>1</td>\n",
       "    </tr>\n",
       "    <tr>\n",
       "      <th>3</th>\n",
       "      <td>1/4/2012</td>\n",
       "      <td>95</td>\n",
       "      <td>2012</td>\n",
       "      <td>1</td>\n",
       "      <td>4</td>\n",
       "      <td>1</td>\n",
       "    </tr>\n",
       "    <tr>\n",
       "      <th>4</th>\n",
       "      <td>1/5/2012</td>\n",
       "      <td>93</td>\n",
       "      <td>2012</td>\n",
       "      <td>1</td>\n",
       "      <td>5</td>\n",
       "      <td>1</td>\n",
       "    </tr>\n",
       "  </tbody>\n",
       "</table>\n",
       "</div>"
      ],
      "text/plain": [
       "       Date  Price  Year  Month  Day  Quarter\n",
       "0  1/1/2012     99  2012      1    1        1\n",
       "1  1/2/2012     95  2012      1    2        1\n",
       "2  1/3/2012     96  2012      1    3        1\n",
       "3  1/4/2012     95  2012      1    4        1\n",
       "4  1/5/2012     93  2012      1    5        1"
      ]
     },
     "execution_count": 483,
     "metadata": {},
     "output_type": "execute_result"
    }
   ],
   "source": [
    "#appending date-transformations\n",
    "data['Year'] = pd.to_datetime(data['Date']).apply(lambda time: time.year)\n",
    "data['Month'] = pd.to_datetime(data['Date']).apply(lambda time: time.month)\n",
    "data['Day'] = pd.to_datetime(data['Date']).apply(lambda time: time.day)\n",
    "data['Quarter'] = pd.to_datetime(data['Date']).apply(lambda time: time.quarter)\n",
    "data.head()"
   ]
  },
  {
   "cell_type": "code",
   "execution_count": 484,
   "id": "a91af973",
   "metadata": {
    "scrolled": false
   },
   "outputs": [
    {
     "name": "stderr",
     "output_type": "stream",
     "text": [
      "C:\\Users\\91951\\anaconda3\\lib\\site-packages\\seaborn\\_decorators.py:36: FutureWarning: Pass the following variables as keyword args: x, y. From version 0.12, the only valid positional argument will be `data`, and passing other arguments without an explicit keyword will result in an error or misinterpretation.\n",
      "  warnings.warn(\n"
     ]
    },
    {
     "data": {
      "text/plain": [
       "<AxesSubplot:xlabel='Date', ylabel='Price'>"
      ]
     },
     "execution_count": 484,
     "metadata": {},
     "output_type": "execute_result"
    },
    {
     "data": {
      "image/png": "[encoded data removed]",
      "text/plain": [
       "<Figure size 432x288 with 1 Axes>"
      ]
     },
     "metadata": {
      "needs_background": "light"
     },
     "output_type": "display_data"
    }
   ],
   "source": [
    "#Data visualisation\n",
    "import seaborn as sns\n",
    "sns.lineplot(data['Date'],data['Price'],hue=data['Year'])\n"
   ]
  },
  {
   "cell_type": "markdown",
   "id": "ce8d4d19",
   "metadata": {},
   "source": [
    "#from first sight, it looks like there is trend in data \n",
    "#looking closely"
   ]
  },
  {
   "cell_type": "code",
   "execution_count": 485,
   "id": "740f3783",
   "metadata": {},
   "outputs": [
    {
     "data": {
      "text/plain": [
       "<AxesSubplot:xlabel='Month', ylabel='Price'>"
      ]
     },
     "execution_count": 485,
     "metadata": {},
     "output_type": "execute_result"
    },
    {
     "data": {
      "image/png": "[encoded data removed]",
      "text/plain": [
       "<Figure size 432x288 with 1 Axes>"
      ]
     },
     "metadata": {
      "needs_background": "light"
     },
     "output_type": "display_data"
    }
   ],
   "source": [
    "sns.lineplot(x=data['Month'],y=data['Price'],hue=data['Year'])"
   ]
  },
  {
   "cell_type": "markdown",
   "id": "2318a6b9",
   "metadata": {},
   "source": [
    "# Prices values behaving same across all years in different months.\n",
    "# There is substantial YoY price growth\n",
    "\n",
    "#Patterns in Days across months"
   ]
  },
  {
   "cell_type": "code",
   "execution_count": 486,
   "id": "75f46ecc",
   "metadata": {},
   "outputs": [
    {
     "data": {
      "text/plain": [
       "<AxesSubplot:xlabel='Day', ylabel='Price'>"
      ]
     },
     "execution_count": 486,
     "metadata": {},
     "output_type": "execute_result"
    },
    {
     "data": {
      "image/png": "[encoded data removed]",
      "text/plain": [
       "<Figure size 432x288 with 1 Axes>"
      ]
     },
     "metadata": {
      "needs_background": "light"
     },
     "output_type": "display_data"
    }
   ],
   "source": [
    "\n",
    "tmp=data[data['Year']==2015]\n",
    "sns.lineplot(x=tmp['Day'],y=tmp['Price'],hue=tmp['Month'])"
   ]
  },
  {
   "cell_type": "markdown",
   "id": "d77e4ddc",
   "metadata": {},
   "source": [
    "#Some months show larger range of hotel price values  aka March, April\n",
    "#There is no visisble trend across days in one month\n",
    "\n",
    "#Smoothing data for understand and model variability across days"
   ]
  },
  {
   "cell_type": "code",
   "execution_count": 487,
   "id": "33f41e5e",
   "metadata": {},
   "outputs": [
    {
     "data": {
      "text/html": [
       "<div>\n",
       "<style scoped>\n",
       "    .dataframe tbody tr th:only-of-type {\n",
       "        vertical-align: middle;\n",
       "    }\n",
       "\n",
       "    .dataframe tbody tr th {\n",
       "        vertical-align: top;\n",
       "    }\n",
       "\n",
       "    .dataframe thead th {\n",
       "        text-align: right;\n",
       "    }\n",
       "</style>\n",
       "<table border=\"1\" class=\"dataframe\">\n",
       "  <thead>\n",
       "    <tr style=\"text-align: right;\">\n",
       "      <th></th>\n",
       "      <th>Date</th>\n",
       "      <th>Price</th>\n",
       "      <th>Year</th>\n",
       "      <th>Month</th>\n",
       "      <th>Day</th>\n",
       "      <th>Quarter</th>\n",
       "      <th>price_smooth</th>\n",
       "    </tr>\n",
       "  </thead>\n",
       "  <tbody>\n",
       "    <tr>\n",
       "      <th>0</th>\n",
       "      <td>1/1/2012</td>\n",
       "      <td>99</td>\n",
       "      <td>2012</td>\n",
       "      <td>1</td>\n",
       "      <td>1</td>\n",
       "      <td>1</td>\n",
       "      <td>99.0</td>\n",
       "    </tr>\n",
       "    <tr>\n",
       "      <th>1</th>\n",
       "      <td>1/2/2012</td>\n",
       "      <td>95</td>\n",
       "      <td>2012</td>\n",
       "      <td>1</td>\n",
       "      <td>2</td>\n",
       "      <td>1</td>\n",
       "      <td>95.0</td>\n",
       "    </tr>\n",
       "    <tr>\n",
       "      <th>2</th>\n",
       "      <td>1/3/2012</td>\n",
       "      <td>96</td>\n",
       "      <td>2012</td>\n",
       "      <td>1</td>\n",
       "      <td>3</td>\n",
       "      <td>1</td>\n",
       "      <td>96.0</td>\n",
       "    </tr>\n",
       "    <tr>\n",
       "      <th>3</th>\n",
       "      <td>1/4/2012</td>\n",
       "      <td>95</td>\n",
       "      <td>2012</td>\n",
       "      <td>1</td>\n",
       "      <td>4</td>\n",
       "      <td>1</td>\n",
       "      <td>95.0</td>\n",
       "    </tr>\n",
       "    <tr>\n",
       "      <th>4</th>\n",
       "      <td>1/5/2012</td>\n",
       "      <td>93</td>\n",
       "      <td>2012</td>\n",
       "      <td>1</td>\n",
       "      <td>5</td>\n",
       "      <td>1</td>\n",
       "      <td>93.0</td>\n",
       "    </tr>\n",
       "    <tr>\n",
       "      <th>5</th>\n",
       "      <td>1/6/2012</td>\n",
       "      <td>93</td>\n",
       "      <td>2012</td>\n",
       "      <td>1</td>\n",
       "      <td>6</td>\n",
       "      <td>1</td>\n",
       "      <td>95.0</td>\n",
       "    </tr>\n",
       "    <tr>\n",
       "      <th>6</th>\n",
       "      <td>1/7/2012</td>\n",
       "      <td>95</td>\n",
       "      <td>2012</td>\n",
       "      <td>1</td>\n",
       "      <td>7</td>\n",
       "      <td>1</td>\n",
       "      <td>94.4</td>\n",
       "    </tr>\n",
       "    <tr>\n",
       "      <th>7</th>\n",
       "      <td>1/8/2012</td>\n",
       "      <td>96</td>\n",
       "      <td>2012</td>\n",
       "      <td>1</td>\n",
       "      <td>8</td>\n",
       "      <td>1</td>\n",
       "      <td>95.0</td>\n",
       "    </tr>\n",
       "    <tr>\n",
       "      <th>8</th>\n",
       "      <td>1/9/2012</td>\n",
       "      <td>98</td>\n",
       "      <td>2012</td>\n",
       "      <td>1</td>\n",
       "      <td>9</td>\n",
       "      <td>1</td>\n",
       "      <td>95.4</td>\n",
       "    </tr>\n",
       "    <tr>\n",
       "      <th>9</th>\n",
       "      <td>1/10/2012</td>\n",
       "      <td>98</td>\n",
       "      <td>2012</td>\n",
       "      <td>1</td>\n",
       "      <td>10</td>\n",
       "      <td>1</td>\n",
       "      <td>95.6</td>\n",
       "    </tr>\n",
       "  </tbody>\n",
       "</table>\n",
       "</div>"
      ],
      "text/plain": [
       "        Date  Price  Year  Month  Day  Quarter  price_smooth\n",
       "0   1/1/2012     99  2012      1    1        1          99.0\n",
       "1   1/2/2012     95  2012      1    2        1          95.0\n",
       "2   1/3/2012     96  2012      1    3        1          96.0\n",
       "3   1/4/2012     95  2012      1    4        1          95.0\n",
       "4   1/5/2012     93  2012      1    5        1          93.0\n",
       "5   1/6/2012     93  2012      1    6        1          95.0\n",
       "6   1/7/2012     95  2012      1    7        1          94.4\n",
       "7   1/8/2012     96  2012      1    8        1          95.0\n",
       "8   1/9/2012     98  2012      1    9        1          95.4\n",
       "9  1/10/2012     98  2012      1   10        1          95.6"
      ]
     },
     "execution_count": 487,
     "metadata": {},
     "output_type": "execute_result"
    }
   ],
   "source": [
    "#smooth prices using moving average of 5 prev points\n",
    "data['price_smooth']=(data['Price'].shift(0)+data['Price'].shift(+1)+data['Price'].shift(+2)+data['Price'].shift(+4)+data['Price'].shift(+5))/5\n",
    "ind=data.index[data['price_smooth'].isnull()==True]\n",
    "tmp=data.loc[ind]['Price']\n",
    "data.loc[ind,['price_smooth']]=tmp\n",
    "data.head(10)"
   ]
  },
  {
   "cell_type": "code",
   "execution_count": 488,
   "id": "73434362",
   "metadata": {},
   "outputs": [
    {
     "data": {
      "text/plain": [
       "<AxesSubplot:xlabel='Day', ylabel='price_smooth'>"
      ]
     },
     "execution_count": 488,
     "metadata": {},
     "output_type": "execute_result"
    },
    {
     "data": {
      "image/png": "[encoded data removed]",
      "text/plain": [
       "<Figure size 432x288 with 1 Axes>"
      ]
     },
     "metadata": {
      "needs_background": "light"
     },
     "output_type": "display_data"
    }
   ],
   "source": [
    "tmp=data[data['Year']==2014]\n",
    "sns.lineplot(x=tmp['Day'],y=tmp['price_smooth'],hue=tmp['Month'])"
   ]
  },
  {
   "cell_type": "markdown",
   "id": "84fbbba8",
   "metadata": {},
   "source": [
    "2012 is a leap year. It has extra one day. Storing avg of 28/02/2014 and 29/02/2014 as 28/02/2014 price value.\n",
    "removing 29/02/2014 from data for computation purposes\n",
    "While prediction we will use same estimate for 28/02 and 29/02 "
   ]
  },
  {
   "cell_type": "code",
   "execution_count": 489,
   "id": "055bbb87",
   "metadata": {},
   "outputs": [],
   "source": [
    "#2012 is a leap year. It has extra one day. Storing avg of 28/02/2014 and 29/02/2014 as 28/02/2014 price value.\n",
    "#removing 29/02/2014 from data for computation purposes\n",
    "#While prediction we will use same estimate for 28/02 and 29/02 \n",
    "\n",
    "tmpval=(data.iloc[58]['price_smooth']+data.iloc[59]['price_smooth'])/2\n",
    "data.loc[58, ['price_smooth']]=tmpval\n",
    "data.drop([59],inplace=True)\n"
   ]
  },
  {
   "cell_type": "markdown",
   "id": "7bb79eb2",
   "metadata": {},
   "source": [
    " Analysing Year over Year growth"
   ]
  },
  {
   "cell_type": "code",
   "execution_count": 490,
   "id": "947d9aa7",
   "metadata": {},
   "outputs": [],
   "source": [
    "# Analysing Year over Year growth\n",
    "def yoy(y1,y2):\n",
    "    return 100.0*np.mean((y1-y2)/y1)\n",
    "\n"
   ]
  },
  {
   "cell_type": "code",
   "execution_count": 491,
   "id": "2eb48880",
   "metadata": {},
   "outputs": [
    {
     "data": {
      "text/html": [
       "<div>\n",
       "<style scoped>\n",
       "    .dataframe tbody tr th:only-of-type {\n",
       "        vertical-align: middle;\n",
       "    }\n",
       "\n",
       "    .dataframe tbody tr th {\n",
       "        vertical-align: top;\n",
       "    }\n",
       "\n",
       "    .dataframe thead th {\n",
       "        text-align: right;\n",
       "    }\n",
       "</style>\n",
       "<table border=\"1\" class=\"dataframe\">\n",
       "  <thead>\n",
       "    <tr style=\"text-align: right;\">\n",
       "      <th></th>\n",
       "      <th>2012</th>\n",
       "      <th>2013</th>\n",
       "      <th>2014</th>\n",
       "      <th>2015</th>\n",
       "      <th>2016</th>\n",
       "    </tr>\n",
       "  </thead>\n",
       "  <tbody>\n",
       "    <tr>\n",
       "      <th>0</th>\n",
       "      <td>99.0</td>\n",
       "      <td>96.8</td>\n",
       "      <td>102.2</td>\n",
       "      <td>122.2</td>\n",
       "      <td>140.8</td>\n",
       "    </tr>\n",
       "    <tr>\n",
       "      <th>1</th>\n",
       "      <td>95.0</td>\n",
       "      <td>96.2</td>\n",
       "      <td>100.6</td>\n",
       "      <td>122.0</td>\n",
       "      <td>143.2</td>\n",
       "    </tr>\n",
       "    <tr>\n",
       "      <th>2</th>\n",
       "      <td>96.0</td>\n",
       "      <td>96.4</td>\n",
       "      <td>104.2</td>\n",
       "      <td>119.0</td>\n",
       "      <td>138.8</td>\n",
       "    </tr>\n",
       "    <tr>\n",
       "      <th>3</th>\n",
       "      <td>95.0</td>\n",
       "      <td>96.8</td>\n",
       "      <td>102.8</td>\n",
       "      <td>121.0</td>\n",
       "      <td>134.8</td>\n",
       "    </tr>\n",
       "    <tr>\n",
       "      <th>4</th>\n",
       "      <td>93.0</td>\n",
       "      <td>97.4</td>\n",
       "      <td>105.8</td>\n",
       "      <td>124.2</td>\n",
       "      <td>138.2</td>\n",
       "    </tr>\n",
       "  </tbody>\n",
       "</table>\n",
       "</div>"
      ],
      "text/plain": [
       "   2012  2013   2014   2015   2016\n",
       "0  99.0  96.8  102.2  122.2  140.8\n",
       "1  95.0  96.2  100.6  122.0  143.2\n",
       "2  96.0  96.4  104.2  119.0  138.8\n",
       "3  95.0  96.8  102.8  121.0  134.8\n",
       "4  93.0  97.4  105.8  124.2  138.2"
      ]
     },
     "execution_count": 491,
     "metadata": {},
     "output_type": "execute_result"
    }
   ],
   "source": [
    "X=pd.DataFrame()\n",
    "for i in [2012,2013,2014,2015,2016]:\n",
    "    X[i]=pd.Series(data[data['Year']==i]['price_smooth']).reset_index()['price_smooth']\n",
    "X.head()\n"
   ]
  },
  {
   "cell_type": "code",
   "execution_count": 492,
   "id": "9520282b",
   "metadata": {},
   "outputs": [
    {
     "data": {
      "text/plain": [
       "[4.863786242297976, 12.163747166655416, 9.09107390457533, 10.75570569940625]"
      ]
     },
     "execution_count": 492,
     "metadata": {},
     "output_type": "execute_result"
    }
   ],
   "source": [
    "YoY=[yoy(X[2013],X[2012]),yoy(X[2014],X[2013]),yoy(X[2015],X[2014]),yoy(X[2016],X[2015])]\n",
    "YoY"
   ]
  },
  {
   "cell_type": "markdown",
   "id": "5536a4c9",
   "metadata": {},
   "source": [
    "Experiment setup"
   ]
  },
  {
   "cell_type": "code",
   "execution_count": 493,
   "id": "ec8579c9",
   "metadata": {},
   "outputs": [
    {
     "name": "stderr",
     "output_type": "stream",
     "text": [
      "C:\\Users\\91951\\AppData\\Local\\Temp\\ipykernel_78520\\1799290940.py:15: FutureWarning: The series.append method is deprecated and will be removed from pandas in a future version. Use pandas.concat instead.\n",
      "  X_train2=X_train1.append(X[2013])\n",
      "C:\\Users\\91951\\AppData\\Local\\Temp\\ipykernel_78520\\1799290940.py:16: FutureWarning: The series.append method is deprecated and will be removed from pandas in a future version. Use pandas.concat instead.\n",
      "  X_train2=X_train2.append(X[2014])\n",
      "C:\\Users\\91951\\AppData\\Local\\Temp\\ipykernel_78520\\1799290940.py:17: FutureWarning: The series.append method is deprecated and will be removed from pandas in a future version. Use pandas.concat instead.\n",
      "  X_train2=X_train2.append(X[2015])\n"
     ]
    }
   ],
   "source": [
    "#Goal: estimate hotel price for feb 2020 \n",
    "#Evaluation metric: Root mean squared error\n",
    "#Two validation set: \n",
    "#(A) Year = 2015 data \n",
    "#(B) Year = 2016 Jan Month data \n",
    "\n",
    "Val1=X[2015]\n",
    "Val2=X[0:16][2016]\n",
    "\n",
    "# Training data: \n",
    "# (A)using 2012 data \n",
    "# (B)using 2012-2015 data\n",
    "\n",
    "X_train1=X[2012]\n",
    "X_train2=X_train1.append(X[2013])\n",
    "X_train2=X_train2.append(X[2014])\n",
    "X_train2=X_train2.append(X[2015])\n",
    "\n",
    "metrics_Train2012_Val2015=[]\n",
    "metrics_Train2012_Val2016=[]\n",
    "metrics_Train2012To2015_Val2016=[]\n",
    "#'model-name','config',metric\n",
    "#config(traindata-Valdata)= {A-A,A-B,B-A,B-B}\n"
   ]
  },
  {
   "cell_type": "markdown",
   "id": "d8d34d50",
   "metadata": {},
   "source": [
    "#Model 1: estimate as prev-day's value\n",
    "#Model 2 estimate as prev-year's value\n",
    "#model 3 : mean of prev year's YoY growth and scaling prev-year's valus with constant growth value\n",
    "#model 4: training Autoregressive model for YoY growth and scaling prev-year's valus with predicted growth"
   ]
  },
  {
   "cell_type": "code",
   "execution_count": 494,
   "id": "c010337f",
   "metadata": {},
   "outputs": [],
   "source": [
    "#Model 1: estimate as prev-day's value\n",
    "\n",
    "#use last value of X_train1 as prediction for Val1\n",
    "\n",
    "def Model1(X_train,Val,tag):\n",
    "    ypred=X_train.iloc[len(X_train)-1]*np.ones([len(Val),1])\n",
    "    y=Val\n",
    "    return [tag,np.sqrt(mse(y,ypred))]\n",
    "\n",
    "metrics_Train2012_Val2015.append(Model1(X_train1,Val1,'Prev-Day value'))\n",
    "metrics_Train2012_Val2016.append(Model1(X_train1,Val2,'Prev-Day value'))\n",
    "metrics_Train2012To2015_Val2016.append(Model1(X_train2,Val2,'Prev-Day value'))\n",
    "\n"
   ]
  },
  {
   "cell_type": "markdown",
   "id": "79fff530",
   "metadata": {},
   "source": [
    "#Using 2012 data for forecasting values of 2015 and 2016 gives larger error value\n",
    "#using 2015 data for forecasting values of 2016 has 7.07\n",
    "\n",
    "#Conclusion: Cannot be used to forecast next 4 yrs values"
   ]
  },
  {
   "cell_type": "code",
   "execution_count": 495,
   "id": "298f79b8",
   "metadata": {},
   "outputs": [
    {
     "name": "stdout",
     "output_type": "stream",
     "text": [
      "[['Prev-Day value', 43.19452168153622], ['Prev Years value', 34.363719127994464]]\n",
      "[['Prev-Day value', 44.21832199439503], ['Prev Years value', 41.77430430300426]]\n",
      "[['Prev-Day value', 7.07884171316184], ['Prev Years value', 15.593989226621902]]\n"
     ]
    }
   ],
   "source": [
    "#Model 2 estimate as prev-year's value\n",
    "\n",
    "def Model2(X_train,Val,tag):\n",
    "    ypred=X_train.iloc[0:len(Val)]\n",
    "    y=Val\n",
    "    return [tag,np.sqrt(mse(y,ypred))]\n",
    "\n",
    "\n",
    "metrics_Train2012_Val2015.append(Model2(X_train1,Val1,'Prev Years value'))\n",
    "metrics_Train2012_Val2016.append(Model2(X_train1,Val2,'Prev Years value'))\n",
    "metrics_Train2012To2015_Val2016.append(Model2(X[2015],Val2,'Prev Years value'))\n",
    "\n",
    "print(metrics_Train2012_Val2015)\n",
    "print(metrics_Train2012_Val2016)\n",
    "print(metrics_Train2012To2015_Val2016)\n",
    "\n",
    "#Conclusion: Prev-year value estimate farther values better \n",
    "#Can be used to forecast Feb 2020 values"
   ]
  },
  {
   "cell_type": "markdown",
   "id": "884d2496",
   "metadata": {},
   "source": [
    "#Conclusion: Prev-year value estimate farther values better \n",
    "#Can be used to forecast Feb 2020 values"
   ]
  },
  {
   "cell_type": "code",
   "execution_count": 496,
   "id": "c97a0893",
   "metadata": {},
   "outputs": [],
   "source": [
    "#model 3 : mean of prev year's YoY growth and scaling prev-year's valus with constant growth value\n",
    "def Model3(X_train,Val,tag,sc):\n",
    "    ypred=sc*X_train.iloc[0:len(Val)]\n",
    "    y=Val\n",
    "    return [tag,np.sqrt(mse(y,ypred))]\n",
    "\n",
    "#using 2012-2013 growth to the power (year-diff)\n",
    "factor=1+ (YoY[0]/100.0)\n",
    "sc=pow(factor ,(2015-2012))\n",
    "metrics_Train2012_Val2015.append(Model3(X_train1,Val1,'YoY constant growth factor',sc))\n",
    "\n",
    "#using 2012-2013 growth to the power (year-diff)\n",
    "factor=1+ (YoY[0]/100.0)\n",
    "sc=pow(factor ,(2016-2012))\n",
    "\n",
    "metrics_Train2012_Val2016.append(Model3(X_train1,Val2,'YoY constant growth factor',sc))\n",
    "\n",
    "\n",
    "#using 2012-2016 growth to the power (year-diff)\n",
    "factor=1+ (np.mean(YoY)/100.0)\n",
    "sc=pow(factor ,(2016-2015))\n",
    "\n",
    "\n",
    "metrics_Train2012To2015_Val2016.append(Model3(X[2015],Val2,'YoY constant growth factor',sc))\n",
    "\n",
    "#Recency data and YoY growth gives lesser errors\n",
    "#modeling YoY"
   ]
  },
  {
   "cell_type": "markdown",
   "id": "ff1258c0",
   "metadata": {},
   "source": [
    "#Recency data and YoY growth gives lesser errors\n",
    "#modeling YoY"
   ]
  },
  {
   "cell_type": "code",
   "execution_count": 497,
   "id": "2de0c8e7",
   "metadata": {},
   "outputs": [],
   "source": [
    "#model 4: training Autoregressive model for YoY growth and scaling prev-year's valus with predicted growth\n",
    "from statsmodels.tsa.ar_model import AutoReg\n",
    "\n",
    "#using 2012-2013 growth to the power (year-diff)\n",
    "factor=1+ (YoY[0]/100.0)\n",
    "sc=pow(factor ,(2015-2012))\n",
    "metrics_Train2012_Val2015.append(Model3(X_train1,Val1,'YoY predicted growth factor',sc))\n",
    "\n",
    "#using 2012-2013 growth to the power (year-diff)\n",
    "factor=1+ (YoY[0]/100.0)\n",
    "sc=pow(factor ,(2016-2012))\n",
    "\n",
    "metrics_Train2012_Val2016.append(Model3(X_train1,Val2,'YoY predicted growth factor',sc))\n",
    "\n",
    "\n",
    "#using 2012-2016 growth to the power (year-diff)\n",
    "mod = AutoReg(yoytrend, 1)\n",
    "yoy_predicted = res.predict(4, 10)\n",
    "\n",
    "factor=1+ (yoy_predicted[4]/100.0)\n",
    "sc=pow(factor ,(2016-2015))\n",
    "\n",
    "metrics_Train2012To2015_Val2016.append(Model3(X[2015],Val2,'YoY predicted growth factor',sc))\n",
    "\n",
    "\n"
   ]
  },
  {
   "cell_type": "code",
   "execution_count": 498,
   "id": "309c2805",
   "metadata": {},
   "outputs": [
    {
     "name": "stdout",
     "output_type": "stream",
     "text": [
      "metrics_Train2012_Val2015\n",
      "[['Prev-Day value', 43.19452168153622], ['Prev Years value', 34.363719127994464], ['YoY constant growth factor', 20.41686672733187], ['YoY predicted growth factor', 20.41686672733187]]\n",
      "metrics_Train2012_Val2016\n",
      "[['Prev-Day value', 44.21832199439503], ['Prev Years value', 41.77430430300426], ['YoY constant growth factor', 22.001560309693268], ['YoY predicted growth factor', 22.001560309693268]]\n",
      "metrics_Train2012To2015_Val2016\n",
      "[['Prev-Day value', 7.07884171316184], ['Prev Years value', 15.593989226621902], ['YoY constant growth factor', 5.888675044840529], ['YoY predicted growth factor', 129.96120790591962]]\n"
     ]
    }
   ],
   "source": [
    "import seaborn as sns\n",
    "import matplotlib.pyplot as plt\n",
    "data=[metrics_Train2012_Val2015,metrics_Train2012_Val2016,metrics_Train2012To2015_Val2016]\n",
    "print('metrics_Train2012_Val2015')\n",
    "print(metrics_Train2012_Val2015)\n",
    "print('metrics_Train2012_Val2016')\n",
    "print(metrics_Train2012_Val2016)\n",
    "print('metrics_Train2012To2015_Val2016')\n",
    "print(metrics_Train2012To2015_Val2016)"
   ]
  },
  {
   "cell_type": "markdown",
   "id": "2773aebd",
   "metadata": {},
   "source": [
    "#Using constant growth YoY Model to generate Feb 2020 values"
   ]
  },
  {
   "cell_type": "code",
   "execution_count": 499,
   "id": "82d43137",
   "metadata": {},
   "outputs": [
    {
     "name": "stdout",
     "output_type": "stream",
     "text": [
      "0     206.386207\n",
      "1     211.048546\n",
      "2     215.400062\n",
      "3     222.548982\n",
      "4     222.859805\n",
      "5     227.211321\n",
      "6     225.346385\n",
      "7     230.319547\n",
      "8     231.562837\n",
      "9     227.832966\n",
      "10    228.454611\n",
      "11    229.076257\n",
      "12    233.427773\n",
      "13    237.779289\n",
      "14    240.576693\n",
      "15    237.779289\n",
      "16    241.198338\n",
      "17    248.036435\n",
      "18    245.239032\n",
      "19    241.198338\n",
      "20    249.279726\n",
      "21    245.239032\n",
      "22    244.928209\n",
      "23    245.860677\n",
      "24    246.482322\n",
      "25    244.306564\n",
      "26    248.347258\n",
      "27    253.631242\n",
      "28    249.901371\n",
      "Name: 2015, dtype: float64\n"
     ]
    }
   ],
   "source": [
    "\n",
    "\n",
    "factor=1+ (np.mean(YoY)/100.0)\n",
    "sc=pow(factor ,5)\n",
    "\n",
    "ypred=sc*X[2015].iloc[31:60]\n",
    "len(ypred)\n",
    "\n",
    "index_ = np.arange(0,29)\n",
    "\n",
    "febdf = ypred.reset_index()[2015]\n",
    "print(febdf)"
   ]
  },
  {
   "cell_type": "code",
   "execution_count": 500,
   "id": "18182b98",
   "metadata": {},
   "outputs": [
    {
     "name": "stderr",
     "output_type": "stream",
     "text": [
      "C:\\Users\\91951\\anaconda3\\lib\\site-packages\\statsmodels\\tsa\\base\\tsa_model.py:471: ValueWarning: An unsupported index was provided and will be ignored when e.g. forecasting.\n",
      "  self._init_dates(dates, freq)\n",
      "C:\\Users\\91951\\anaconda3\\lib\\site-packages\\statsmodels\\tsa\\base\\tsa_model.py:834: ValueWarning: No supported index is available. Prediction results will be given with an integer index beginning at `start`.\n",
      "  return get_prediction_index(\n",
      "C:\\Users\\91951\\anaconda3\\lib\\site-packages\\statsmodels\\tsa\\deterministic.py:302: UserWarning: Only PeriodIndexes, DatetimeIndexes with a frequency set, RangesIndexes, and Index with a unit increment support extending. The index is set will contain the position relative to the data length.\n",
      "  fcast_index = self._extend_index(index, steps, forecast_index)\n"
     ]
    },
    {
     "data": {
      "text/plain": [
       "6.71351134027351"
      ]
     },
     "execution_count": 500,
     "metadata": {},
     "output_type": "execute_result"
    }
   ],
   "source": [
    "#FOR FUTURE works\n",
    "#model 5 : Autoregressive model(15) on training data \n",
    "\n",
    "#Not enough data to train with only with 2012 data model. \n",
    "#Using All data and 2016-validation\n",
    "\n",
    "mod = AutoReg(X_train2, 120)\n",
    "res = mod.fit()\n",
    "ypred = res.predict(len(X_train2),len(X_train2)+15)\n",
    "np.sqrt(mse(Val2,ypred))\n",
    "\n"
   ]
  },
  {
   "cell_type": "code",
   "execution_count": null,
   "id": "2a093767",
   "metadata": {},
   "outputs": [],
   "source": []
  },
  {
   "cell_type": "code",
   "execution_count": 382,
   "id": "138529c1",
   "metadata": {},
   "outputs": [],
   "source": []
  },
  {
   "cell_type": "code",
   "execution_count": null,
   "id": "c012c976",
   "metadata": {},
   "outputs": [],
   "source": []
  },
  {
   "cell_type": "code",
   "execution_count": 384,
   "id": "d11b5abe",
   "metadata": {},
   "outputs": [],
   "source": []
  },
  {
   "cell_type": "code",
   "execution_count": null,
   "id": "cf159fef",
   "metadata": {},
   "outputs": [],
   "source": []
  },
  {
   "cell_type": "code",
   "execution_count": null,
   "id": "4a4c2b34",
   "metadata": {},
   "outputs": [],
   "source": []
  },
  {
   "cell_type": "code",
   "execution_count": null,
   "id": "784ffd43",
   "metadata": {},
   "outputs": [],
   "source": []
  }
 ],
 "metadata": {
  "kernelspec": {
   "display_name": "Python 3 (ipykernel)",
   "language": "python",
   "name": "python3"
  },
  "language_info": {
   "codemirror_mode": {
    "name": "ipython",
    "version": 3
   },
   "file_extension": ".py",
   "mimetype": "text/x-python",
   "name": "python",
   "nbconvert_exporter": "python",
   "pygments_lexer": "ipython3",
   "version": "3.10.9"
  }
 },
 "nbformat": 4,
 "nbformat_minor": 5
}
